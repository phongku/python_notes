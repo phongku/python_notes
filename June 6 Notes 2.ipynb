{
 "cells": [
  {
   "cell_type": "code",
   "execution_count": 9,
   "id": "18c31a07",
   "metadata": {},
   "outputs": [
    {
     "name": "stdout",
     "output_type": "stream",
     "text": [
      "0\n"
     ]
    }
   ],
   "source": [
    "import random\n",
    "\n",
    "r1 = random.randint(0, 100)\n",
    "print(r1)"
   ]
  },
  {
   "cell_type": "code",
   "execution_count": 15,
   "id": "41e97fdb",
   "metadata": {},
   "outputs": [
    {
     "name": "stdout",
     "output_type": "stream",
     "text": [
      "[41, 64, 82, 48, 19, 62, 28, 84, 2, 25, 48, 61, 51, 97, 19, 28, 49, 49, 14, 53]\n"
     ]
    }
   ],
   "source": [
    "randlist = []\n",
    "\n",
    "for i in range(20):\n",
    "    randlist.append(random.randint(0, 100))\n",
    "        \n",
    "print(randlist)"
   ]
  },
  {
   "cell_type": "code",
   "execution_count": 16,
   "id": "6dee299c",
   "metadata": {},
   "outputs": [
    {
     "name": "stdout",
     "output_type": "stream",
     "text": [
      "[2, 14, 19, 19, 25, 28, 28, 41, 48, 48, 49, 49, 51, 53, 61, 62, 64, 82, 84, 97]\n"
     ]
    }
   ],
   "source": [
    "randlist.sort()\n",
    "print(randlist)"
   ]
  },
  {
   "cell_type": "code",
   "execution_count": 18,
   "id": "0bc5ae08",
   "metadata": {},
   "outputs": [
    {
     "name": "stdout",
     "output_type": "stream",
     "text": [
      "None\n"
     ]
    }
   ],
   "source": [
    "x = randlist.sort()\n",
    "\n",
    "print(x)"
   ]
  },
  {
   "cell_type": "code",
   "execution_count": 21,
   "id": "3657ff10",
   "metadata": {},
   "outputs": [
    {
     "name": "stdout",
     "output_type": "stream",
     "text": [
      "None\n",
      "[2, 14, 19, 19, 25, 28, 28, 41, 48, 48, 49, 49, 51, 53, 61, 62, 64, 82, 84, 97, 12, 12, 12]\n"
     ]
    }
   ],
   "source": [
    "y = randlist.append(12)\n",
    "\n",
    "print(y)\n",
    "print(randlist)"
   ]
  },
  {
   "cell_type": "code",
   "execution_count": 22,
   "id": "d41f166b",
   "metadata": {},
   "outputs": [],
   "source": [
    "def how_many_a_in_li(a, li):\n",
    "    count = 0\n",
    "    for i in li:\n",
    "        if i == a:\n",
    "            count += 1\n",
    "    return count"
   ]
  },
  {
   "cell_type": "code",
   "execution_count": 23,
   "id": "5ddaf726",
   "metadata": {},
   "outputs": [
    {
     "data": {
      "text/plain": [
       "3"
      ]
     },
     "execution_count": 23,
     "metadata": {},
     "output_type": "execute_result"
    }
   ],
   "source": [
    "a = 2\n",
    "li = [1, 2, 2, 3, 2, 4]\n",
    "\n",
    "how_many_a_in_li(a, li)"
   ]
  },
  {
   "cell_type": "code",
   "execution_count": 25,
   "id": "5d09c045",
   "metadata": {},
   "outputs": [
    {
     "data": {
      "text/plain": [
       "4"
      ]
     },
     "execution_count": 25,
     "metadata": {},
     "output_type": "execute_result"
    }
   ],
   "source": [
    "a = 'a'\n",
    "li = 'Mary had a little lamb'\n",
    "\n",
    "how_many_a_in_li(a, li)"
   ]
  },
  {
   "cell_type": "code",
   "execution_count": null,
   "id": "4b4ed05c",
   "metadata": {},
   "outputs": [],
   "source": []
  }
 ],
 "metadata": {
  "kernelspec": {
   "display_name": "Python 3 (ipykernel)",
   "language": "python",
   "name": "python3"
  },
  "language_info": {
   "codemirror_mode": {
    "name": "ipython",
    "version": 3
   },
   "file_extension": ".py",
   "mimetype": "text/x-python",
   "name": "python",
   "nbconvert_exporter": "python",
   "pygments_lexer": "ipython3",
   "version": "3.11.0"
  }
 },
 "nbformat": 4,
 "nbformat_minor": 5
}
