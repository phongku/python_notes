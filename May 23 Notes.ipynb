{
 "cells": [
  {
   "cell_type": "code",
   "execution_count": 1,
   "id": "a8be368d",
   "metadata": {},
   "outputs": [
    {
     "data": {
      "text/plain": [
       "True"
      ]
     },
     "execution_count": 1,
     "metadata": {},
     "output_type": "execute_result"
    }
   ],
   "source": [
    "3 != 4"
   ]
  },
  {
   "cell_type": "code",
   "execution_count": 2,
   "id": "dd6af423",
   "metadata": {},
   "outputs": [
    {
     "data": {
      "text/plain": [
       "0"
      ]
     },
     "execution_count": 2,
     "metadata": {},
     "output_type": "execute_result"
    }
   ],
   "source": [
    "12 % 2"
   ]
  },
  {
   "cell_type": "code",
   "execution_count": 4,
   "id": "293ad366",
   "metadata": {},
   "outputs": [
    {
     "data": {
      "text/plain": [
       "True"
      ]
     },
     "execution_count": 4,
     "metadata": {},
     "output_type": "execute_result"
    }
   ],
   "source": [
    "3 < 4 or 3 > 4"
   ]
  },
  {
   "cell_type": "code",
   "execution_count": 5,
   "id": "afe9925d",
   "metadata": {},
   "outputs": [
    {
     "name": "stdout",
     "output_type": "stream",
     "text": [
      "Point A\n",
      "Point B\n",
      "Point C\n",
      "Point D\n"
     ]
    }
   ],
   "source": [
    "cond1 = True\n",
    "cond2 = True\n",
    "\n",
    "if cond1:\n",
    "\n",
    "    print(\"Point A\")\n",
    "    \n",
    "    if cond2:\n",
    "    \n",
    "        print(\"Point B\")\n",
    "        \n",
    "    print(\"Point C\")    \n",
    "        \n",
    "print(\"Point D\")"
   ]
  },
  {
   "cell_type": "code",
   "execution_count": 10,
   "id": "26694d61",
   "metadata": {},
   "outputs": [
    {
     "name": "stdout",
     "output_type": "stream",
     "text": [
      "Point A\n",
      "Point D\n",
      "Point E\n"
     ]
    }
   ],
   "source": [
    "cond1 = True\n",
    "cond2 = False\n",
    "cond3 = True\n",
    "\n",
    "if cond1:\n",
    "\n",
    "    print(\"Point A\")\n",
    "    \n",
    "    if cond2:\n",
    "    \n",
    "        print(\"Point B\")\n",
    "        \n",
    "        if cond3:\n",
    "            print(\"Point C\")\n",
    "        \n",
    "    print(\"Point D\")    \n",
    "        \n",
    "print(\"Point E\")"
   ]
  },
  {
   "cell_type": "code",
   "execution_count": 12,
   "id": "a0b64554",
   "metadata": {},
   "outputs": [
    {
     "name": "stdout",
     "output_type": "stream",
     "text": [
      "Point B\n",
      "Point C\n"
     ]
    }
   ],
   "source": [
    "cond1 = False\n",
    "\n",
    "if cond1:\n",
    "\n",
    "    print(\"Point A\")\n",
    "    \n",
    "else:\n",
    "\n",
    "    print(\"Point B\")\n",
    "    \n",
    "print(\"Point C\")"
   ]
  },
  {
   "cell_type": "code",
   "execution_count": 17,
   "id": "c9f34feb",
   "metadata": {},
   "outputs": [
    {
     "name": "stdout",
     "output_type": "stream",
     "text": [
      "Point A\n",
      "Point D\n"
     ]
    }
   ],
   "source": [
    "cond1 = True\n",
    "cond2 = True\n",
    "\n",
    "if cond1:\n",
    "\n",
    "    print(\"Point A\")\n",
    "    \n",
    "else:\n",
    "\n",
    "    print(\"Point B\")\n",
    "    \n",
    "    if cond2:\n",
    "        \n",
    "        print(\"Point C\")\n",
    "    \n",
    "print(\"Point D\")"
   ]
  },
  {
   "cell_type": "code",
   "execution_count": 21,
   "id": "afa53662",
   "metadata": {},
   "outputs": [
    {
     "name": "stdout",
     "output_type": "stream",
     "text": [
      "Point D\n"
     ]
    }
   ],
   "source": [
    "cond1 = False\n",
    "cond2 = False\n",
    "cond3 = False\n",
    "\n",
    "if cond1:\n",
    "\n",
    "    print(\"Point A\")\n",
    "    \n",
    "elif cond2:\n",
    "\n",
    "    print(\"Point B\")\n",
    "    \n",
    "elif cond3:\n",
    "\n",
    "    print(\"Point C\")\n",
    "    \n",
    "print(\"Point D\")"
   ]
  },
  {
   "cell_type": "code",
   "execution_count": 22,
   "id": "6ed29752",
   "metadata": {},
   "outputs": [
    {
     "name": "stdout",
     "output_type": "stream",
     "text": [
      "Point A\n",
      "Point E\n"
     ]
    }
   ],
   "source": [
    "cond1 = True\n",
    "cond2 = True\n",
    "cond3 = True\n",
    "\n",
    "if cond1:\n",
    "\n",
    "    print(\"Point A\")\n",
    "    \n",
    "elif cond2:\n",
    "\n",
    "    print(\"Point B\")\n",
    "    \n",
    "elif cond3:\n",
    "\n",
    "    print(\"Point C\")\n",
    "    \n",
    "else:\n",
    "\n",
    "    print(\"Point D\")\n",
    "    \n",
    "print(\"Point E\")"
   ]
  },
  {
   "cell_type": "code",
   "execution_count": null,
   "id": "655a54e0",
   "metadata": {},
   "outputs": [],
   "source": []
  }
 ],
 "metadata": {
  "kernelspec": {
   "display_name": "Python 3 (ipykernel)",
   "language": "python",
   "name": "python3"
  },
  "language_info": {
   "codemirror_mode": {
    "name": "ipython",
    "version": 3
   },
   "file_extension": ".py",
   "mimetype": "text/x-python",
   "name": "python",
   "nbconvert_exporter": "python",
   "pygments_lexer": "ipython3",
   "version": "3.11.0"
  }
 },
 "nbformat": 4,
 "nbformat_minor": 5
}
