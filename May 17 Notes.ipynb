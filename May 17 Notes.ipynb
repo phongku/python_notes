{
 "cells": [
  {
   "cell_type": "code",
   "execution_count": 1,
   "id": "2bbb9078",
   "metadata": {},
   "outputs": [
    {
     "ename": "NameError",
     "evalue": "name 's' is not defined",
     "output_type": "error",
     "traceback": [
      "\u001b[1;31m---------------------------------------------------------------------------\u001b[0m",
      "\u001b[1;31mNameError\u001b[0m                                 Traceback (most recent call last)",
      "Cell \u001b[1;32mIn[1], line 1\u001b[0m\n\u001b[1;32m----> 1\u001b[0m \u001b[43ms\u001b[49m[\u001b[38;5;241m0\u001b[39m] \u001b[38;5;241m=\u001b[39m \u001b[38;5;124m'\u001b[39m\u001b[38;5;124mY\u001b[39m\u001b[38;5;124m'\u001b[39m\n\u001b[0;32m      2\u001b[0m \u001b[38;5;28mprint\u001b[39m(s)\n",
      "\u001b[1;31mNameError\u001b[0m: name 's' is not defined"
     ]
    }
   ],
   "source": [
    "s[0] = 'Y'\n",
    "print(s)"
   ]
  },
  {
   "cell_type": "code",
   "execution_count": 2,
   "id": "7e14ca48",
   "metadata": {},
   "outputs": [
    {
     "name": "stdout",
     "output_type": "stream",
     "text": [
      "111222\n"
     ]
    }
   ],
   "source": [
    "sa = '111'\n",
    "sb = '222'\n",
    "sc = sa + sb\n",
    "print(sc)"
   ]
  },
  {
   "cell_type": "code",
   "execution_count": 6,
   "id": "ed756b67",
   "metadata": {},
   "outputs": [
    {
     "name": "stdout",
     "output_type": "stream",
     "text": [
      "I bought 2 books for 30 each and paid $60.00.\n"
     ]
    }
   ],
   "source": [
    "num_books = 2\n",
    "price = 30\n",
    "s = f'I bought {num_books} books for {price} each\\\n",
    " and paid ${num_books * price:.2f}.'\n",
    "print(s)"
   ]
  },
  {
   "cell_type": "code",
   "execution_count": 12,
   "id": "ad273b16",
   "metadata": {},
   "outputs": [
    {
     "name": "stdout",
     "output_type": "stream",
     "text": [
      "['Tom', 'Dick', 'Harry']\n"
     ]
    }
   ],
   "source": [
    "names = ['Tom', 'Dick', 'Harry']\n",
    "print(names)"
   ]
  },
  {
   "cell_type": "code",
   "execution_count": 13,
   "id": "f6e86efc",
   "metadata": {},
   "outputs": [
    {
     "name": "stdout",
     "output_type": "stream",
     "text": [
      "['Tom', 'Dick', 'Harry', 'Susan', 'Alice', 'Beth']\n"
     ]
    }
   ],
   "source": [
    "names2 = ['Susan', 'Alice', 'Beth']\n",
    "namesb = names + names2\n",
    "print(namesb)"
   ]
  },
  {
   "cell_type": "code",
   "execution_count": 14,
   "id": "f5652423",
   "metadata": {},
   "outputs": [
    {
     "name": "stdout",
     "output_type": "stream",
     "text": [
      "None\n",
      "['Tom', 'Dick', 'Harry', ['Susan', 'Alice', 'Beth']]\n"
     ]
    }
   ],
   "source": [
    "namesc = names.append(names2)\n",
    "print(namesc)\n",
    "print(names)"
   ]
  },
  {
   "cell_type": "code",
   "execution_count": 15,
   "id": "d8c5f11f",
   "metadata": {},
   "outputs": [],
   "source": [
    "t1 = 1,2,3"
   ]
  },
  {
   "cell_type": "code",
   "execution_count": 16,
   "id": "2d3e7507",
   "metadata": {},
   "outputs": [
    {
     "name": "stdout",
     "output_type": "stream",
     "text": [
      "(1, 2, 3)\n"
     ]
    }
   ],
   "source": [
    "print(t1)"
   ]
  },
  {
   "cell_type": "code",
   "execution_count": 17,
   "id": "6a8c196c",
   "metadata": {},
   "outputs": [],
   "source": [
    "ASet = {'cat', 'dog', 'parrot'}\n",
    "AList = ['cat', 'dog', 'parrot']\n",
    "ATuple = 'cat', 'dog', 'parrot'"
   ]
  },
  {
   "cell_type": "code",
   "execution_count": 18,
   "id": "18be2fc4",
   "metadata": {},
   "outputs": [
    {
     "name": "stdout",
     "output_type": "stream",
     "text": [
      "{'parrot', 'dog', 'cat'}\n",
      "['cat', 'dog', 'parrot']\n",
      "('cat', 'dog', 'parrot')\n"
     ]
    }
   ],
   "source": [
    "print(ASet)\n",
    "print(AList)\n",
    "print(ATuple)"
   ]
  },
  {
   "cell_type": "code",
   "execution_count": 19,
   "id": "b6c0cdf7",
   "metadata": {},
   "outputs": [
    {
     "name": "stdout",
     "output_type": "stream",
     "text": [
      "<class 'set'>\n",
      "<class 'list'>\n",
      "<class 'tuple'>\n"
     ]
    }
   ],
   "source": [
    "print(type(ASet))\n",
    "print(type(AList))\n",
    "print(type(ATuple))"
   ]
  },
  {
   "cell_type": "code",
   "execution_count": 21,
   "id": "aa05f9ca",
   "metadata": {},
   "outputs": [
    {
     "name": "stdout",
     "output_type": "stream",
     "text": [
      "cat\n",
      "cat\n"
     ]
    }
   ],
   "source": [
    "print(ASet[0])\n",
    "print(AList[0])\n",
    "print(ATuple[0])"
   ]
  },
  {
   "cell_type": "code",
   "execution_count": 26,
   "id": "13f99c9b",
   "metadata": {},
   "outputs": [
    {
     "name": "stdout",
     "output_type": "stream",
     "text": [
      "{'Joe': 175, 'Tom': 190, 'Dick': 150}\n"
     ]
    }
   ],
   "source": [
    "adict = {\n",
    "    'Joe': 175,\n",
    "    'Tom': 190,\n",
    "    'Dick': 150\n",
    "}\n",
    "\n",
    "print(adict)"
   ]
  },
  {
   "cell_type": "code",
   "execution_count": 29,
   "id": "f67bbb41",
   "metadata": {},
   "outputs": [
    {
     "name": "stdout",
     "output_type": "stream",
     "text": [
      "{'Joe': 175, 'Tom': 190, 'Dick': 150, 'Harry': 180}\n"
     ]
    }
   ],
   "source": [
    "adict['Harry'] = 180\n",
    "print(adict)"
   ]
  },
  {
   "cell_type": "code",
   "execution_count": 32,
   "id": "781549c3",
   "metadata": {},
   "outputs": [
    {
     "name": "stdout",
     "output_type": "stream",
     "text": [
      "{'Joe': 175, 'Tom': 190, 'Dick': 150}\n"
     ]
    }
   ],
   "source": [
    "\n",
    "print(adict)"
   ]
  },
  {
   "cell_type": "code",
   "execution_count": 34,
   "id": "f7067ff4",
   "metadata": {},
   "outputs": [
    {
     "name": "stdout",
     "output_type": "stream",
     "text": [
      "150\n"
     ]
    }
   ],
   "source": [
    "entry1 = adict['Dick']\n",
    "print(entry1)"
   ]
  },
  {
   "cell_type": "code",
   "execution_count": 36,
   "id": "826ffda4",
   "metadata": {},
   "outputs": [
    {
     "name": "stdout",
     "output_type": "stream",
     "text": [
      "0xf3\n"
     ]
    }
   ],
   "source": [
    "print(hex(243))"
   ]
  },
  {
   "cell_type": "code",
   "execution_count": 38,
   "id": "68cf02de",
   "metadata": {},
   "outputs": [
    {
     "data": {
      "text/plain": [
       "'0x19d'"
      ]
     },
     "execution_count": 38,
     "metadata": {},
     "output_type": "execute_result"
    }
   ],
   "source": [
    "hex(int('110011101', 2))"
   ]
  },
  {
   "cell_type": "code",
   "execution_count": 39,
   "id": "b1109f64",
   "metadata": {},
   "outputs": [
    {
     "name": "stdout",
     "output_type": "stream",
     "text": [
      "413\n"
     ]
    }
   ],
   "source": [
    "print(0x19d)"
   ]
  },
  {
   "cell_type": "code",
   "execution_count": null,
   "id": "d990a110",
   "metadata": {},
   "outputs": [],
   "source": []
  }
 ],
 "metadata": {
  "kernelspec": {
   "display_name": "Python 3 (ipykernel)",
   "language": "python",
   "name": "python3"
  },
  "language_info": {
   "codemirror_mode": {
    "name": "ipython",
    "version": 3
   },
   "file_extension": ".py",
   "mimetype": "text/x-python",
   "name": "python",
   "nbconvert_exporter": "python",
   "pygments_lexer": "ipython3",
   "version": "3.11.0"
  }
 },
 "nbformat": 4,
 "nbformat_minor": 5
}
