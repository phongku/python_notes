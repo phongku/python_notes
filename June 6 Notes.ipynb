{
 "cells": [
  {
   "cell_type": "code",
   "execution_count": 1,
   "id": "b4f99846",
   "metadata": {},
   "outputs": [
    {
     "data": {
      "text/plain": [
       "0.998"
      ]
     },
     "execution_count": 1,
     "metadata": {},
     "output_type": "execute_result"
    }
   ],
   "source": [
    "def mtg(zy,q1,q2):\n",
    "    quiz = .5 * (q1 + q2)\n",
    "    return .9 * zy + .1 * quiz\n",
    "\n",
    "mtg(1,.96,1)"
   ]
  },
  {
   "cell_type": "code",
   "execution_count": 2,
   "id": "c858ecb0",
   "metadata": {},
   "outputs": [
    {
     "name": "stdout",
     "output_type": "stream",
     "text": [
      "[1, 2, 3, 4, 5, 6]\n"
     ]
    }
   ],
   "source": [
    "l1 = [1, 2, 3]\n",
    "l2 = [4, 5, 6]\n",
    "\n",
    "l3c = l1 + l2\n",
    "print(l3c)"
   ]
  },
  {
   "cell_type": "code",
   "execution_count": null,
   "id": "ccbb4380",
   "metadata": {},
   "outputs": [],
   "source": []
  },
  {
   "cell_type": "code",
   "execution_count": 4,
   "id": "5b649352",
   "metadata": {},
   "outputs": [
    {
     "data": {
      "text/plain": [
       "[1, 2, 3, 4, 5]"
      ]
     },
     "execution_count": 4,
     "metadata": {},
     "output_type": "execute_result"
    }
   ],
   "source": [
    "test_list = [1, 2, 3, 3, 4, 1, 5, 5, 5]\n",
    "\n",
    "\n",
    "def undup(l):\n",
    "    result = []\n",
    "    for i in l:\n",
    "        if i not in result:\n",
    "            result.append(i)\n",
    "    return result\n",
    "    \n",
    "undup(test_list)"
   ]
  },
  {
   "cell_type": "code",
   "execution_count": 5,
   "id": "e7d90771",
   "metadata": {},
   "outputs": [
    {
     "data": {
      "text/plain": [
       "['H', 'e', 'l', 'o']"
      ]
     },
     "execution_count": 5,
     "metadata": {},
     "output_type": "execute_result"
    }
   ],
   "source": [
    "undup('Hello')"
   ]
  },
  {
   "cell_type": "code",
   "execution_count": 10,
   "id": "e906b0b6",
   "metadata": {},
   "outputs": [
    {
     "data": {
      "text/plain": [
       "[5, 15, 3]"
      ]
     },
     "execution_count": 10,
     "metadata": {},
     "output_type": "execute_result"
    }
   ],
   "source": [
    "numbers = [1, 2, 3, 4, 5]\n",
    "import statistics\n",
    "\n",
    "def numres(nl):\n",
    "    return [len(nl), sum(nl), statistics.mean(nl)]\n",
    "\n",
    "numres(numbers)"
   ]
  },
  {
   "cell_type": "code",
   "execution_count": 14,
   "id": "17c7b116",
   "metadata": {},
   "outputs": [],
   "source": [
    "xlist = [1, ['a', 'b', ['x', 'y']]]"
   ]
  },
  {
   "cell_type": "code",
   "execution_count": 15,
   "id": "a036dca6",
   "metadata": {},
   "outputs": [
    {
     "name": "stdout",
     "output_type": "stream",
     "text": [
      "[1, ['a', 'b', ['x', 'y']]]\n"
     ]
    }
   ],
   "source": [
    "print(xlist)"
   ]
  },
  {
   "cell_type": "code",
   "execution_count": 17,
   "id": "fab4f518",
   "metadata": {},
   "outputs": [
    {
     "name": "stdout",
     "output_type": "stream",
     "text": [
      "1\n"
     ]
    }
   ],
   "source": [
    "print(xlist[0])"
   ]
  },
  {
   "cell_type": "code",
   "execution_count": 18,
   "id": "5a088eaf",
   "metadata": {},
   "outputs": [
    {
     "name": "stdout",
     "output_type": "stream",
     "text": [
      "b\n"
     ]
    }
   ],
   "source": [
    "print(xlist[1][1])"
   ]
  },
  {
   "cell_type": "code",
   "execution_count": 19,
   "id": "3d050116",
   "metadata": {},
   "outputs": [
    {
     "name": "stdout",
     "output_type": "stream",
     "text": [
      "y\n"
     ]
    }
   ],
   "source": [
    "print(xlist[1][2][1])"
   ]
  },
  {
   "cell_type": "code",
   "execution_count": null,
   "id": "d14fa1f2",
   "metadata": {},
   "outputs": [],
   "source": []
  }
 ],
 "metadata": {
  "kernelspec": {
   "display_name": "Python 3 (ipykernel)",
   "language": "python",
   "name": "python3"
  },
  "language_info": {
   "codemirror_mode": {
    "name": "ipython",
    "version": 3
   },
   "file_extension": ".py",
   "mimetype": "text/x-python",
   "name": "python",
   "nbconvert_exporter": "python",
   "pygments_lexer": "ipython3",
   "version": "3.11.0"
  }
 },
 "nbformat": 4,
 "nbformat_minor": 5
}
