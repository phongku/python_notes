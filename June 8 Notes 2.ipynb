{
 "cells": [
  {
   "cell_type": "code",
   "execution_count": 2,
   "id": "e364252a",
   "metadata": {},
   "outputs": [
    {
     "name": "stdout",
     "output_type": "stream",
     "text": [
      "M 1\n",
      "i 4\n",
      "s 4\n",
      "p 2\n"
     ]
    }
   ],
   "source": [
    "s = 'Mississippi'\n",
    "count_dict = {}\n",
    "for c in s:\n",
    "    if c in count_dict:\n",
    "        count_dict[c] = count_dict[c] + 1\n",
    "    else:\n",
    "        count_dict[c] = 1\n",
    "        \n",
    "for k in count_dict.keys():\n",
    "    print(k, count_dict[k])"
   ]
  },
  {
   "cell_type": "code",
   "execution_count": 3,
   "id": "aecf96e9",
   "metadata": {},
   "outputs": [
    {
     "name": "stdout",
     "output_type": "stream",
     "text": [
      "M 1\n",
      "i 4\n",
      "s 4\n",
      "p 2\n"
     ]
    }
   ],
   "source": [
    "s = 'Mississippi'\n",
    "count_dict = {}\n",
    "for c in s:\n",
    "    count_dict[c] = count_dict.get(c,0) + 1\n",
    "    \n",
    "for k in count_dict.keys():\n",
    "    print(k, count_dict[k])"
   ]
  },
  {
   "cell_type": "code",
   "execution_count": 7,
   "id": "574d1168",
   "metadata": {},
   "outputs": [
    {
     "name": "stdout",
     "output_type": "stream",
     "text": [
      "1 2\n",
      "2 6\n",
      "6 5\n",
      "7 3\n",
      "5 2\n",
      "0 6\n",
      "8 1\n",
      "9 2\n",
      "4 2\n",
      "3 2\n"
     ]
    }
   ],
   "source": [
    "s = str(2 ** 100)\n",
    "count_dict = {}\n",
    "for c in s:\n",
    "    count_dict[c] = count_dict.get(c,0) + 1\n",
    "\n",
    "for k in count_dict.keys():\n",
    "    print(k, count_dict[k])    "
   ]
  },
  {
   "cell_type": "code",
   "execution_count": 11,
   "id": "d01b7cf5",
   "metadata": {},
   "outputs": [
    {
     "name": "stdout",
     "output_type": "stream",
     "text": [
      "T 1 0.02857142857142857\n",
      "h 1 0.02857142857142857\n",
      "i 3 0.08571428571428572\n",
      "s 3 0.08571428571428572\n",
      "  6 0.17142857142857143\n",
      "j 1 0.02857142857142857\n",
      "u 1 0.02857142857142857\n",
      "t 2 0.05714285714285714\n",
      "a 2 0.05714285714285714\n",
      "p 1 0.02857142857142857\n",
      "r 2 0.05714285714285714\n",
      "o 3 0.08571428571428572\n",
      "f 2 0.05714285714285714\n",
      "g 1 0.02857142857142857\n",
      "e 2 0.05714285714285714\n",
      "n 1 0.02857142857142857\n",
      "l 1 0.02857142857142857\n",
      "y 1 0.02857142857142857\n",
      ". 1 0.02857142857142857\n"
     ]
    }
   ],
   "source": [
    "s = 'This is just a proof of generality.'\n",
    "l = list(s)\n",
    "\n",
    "count_dict = {}\n",
    "for c in l:\n",
    "    count_dict[c] = count_dict.get(c,0) + 1\n",
    "\n",
    "for k in count_dict.keys():\n",
    "    print(k, count_dict[k], count_dict[k] / len(l))    "
   ]
  },
  {
   "cell_type": "code",
   "execution_count": 13,
   "id": "e9b43cc7",
   "metadata": {},
   "outputs": [
    {
     "name": "stdout",
     "output_type": "stream",
     "text": [
      "M 1 0.02857142857142857\n",
      "i 4 0.11428571428571428\n",
      "s 4 0.11428571428571428\n",
      "p 2 0.05714285714285714\n"
     ]
    }
   ],
   "source": [
    "s = 'Mississippi'\n",
    "count_dict = {}\n",
    "for c in s:\n",
    "    count_dict[c] = count_dict.get(c,0) + 1\n",
    "\n",
    "for k in count_dict.keys():\n",
    "    print(k, count_dict[k], count_dict[k] / len(l))"
   ]
  },
  {
   "cell_type": "code",
   "execution_count": null,
   "id": "610afd4f",
   "metadata": {},
   "outputs": [],
   "source": []
  }
 ],
 "metadata": {
  "kernelspec": {
   "display_name": "Python 3 (ipykernel)",
   "language": "python",
   "name": "python3"
  },
  "language_info": {
   "codemirror_mode": {
    "name": "ipython",
    "version": 3
   },
   "file_extension": ".py",
   "mimetype": "text/x-python",
   "name": "python",
   "nbconvert_exporter": "python",
   "pygments_lexer": "ipython3",
   "version": "3.11.0"
  }
 },
 "nbformat": 4,
 "nbformat_minor": 5
}
