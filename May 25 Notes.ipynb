{
 "cells": [
  {
   "cell_type": "code",
   "execution_count": 3,
   "id": "689b4cb3",
   "metadata": {},
   "outputs": [
    {
     "name": "stdout",
     "output_type": "stream",
     "text": [
      "1\n",
      "2\n",
      "3\n",
      "4\n",
      "5\n"
     ]
    }
   ],
   "source": [
    "i = 0\n",
    "while i < 5:\n",
    "    i = i + 1\n",
    "    print(i)"
   ]
  },
  {
   "cell_type": "code",
   "execution_count": 8,
   "id": "8f5f36e6",
   "metadata": {},
   "outputs": [
    {
     "name": "stdout",
     "output_type": "stream",
     "text": [
      "1\n",
      "2\n",
      "3\n",
      "4\n",
      "5\n"
     ]
    }
   ],
   "source": [
    "for i in range(5):\n",
    "    i += 1\n",
    "    print(i)"
   ]
  },
  {
   "cell_type": "code",
   "execution_count": 15,
   "id": "00370e38",
   "metadata": {},
   "outputs": [
    {
     "name": "stdout",
     "output_type": "stream",
     "text": [
      "0 0\n",
      "1 1\n",
      "2 4\n",
      "4 16\n"
     ]
    }
   ],
   "source": [
    "for i in range(5):\n",
    "    j = i**2\n",
    "    if i == 3:\n",
    "        continue\n",
    "    print(i, j)\n",
    "            "
   ]
  },
  {
   "cell_type": "code",
   "execution_count": 16,
   "id": "ace7e484",
   "metadata": {},
   "outputs": [],
   "source": [
    "test_list = [1, 2, 3, 4]"
   ]
  },
  {
   "cell_type": "code",
   "execution_count": 19,
   "id": "260b434a",
   "metadata": {},
   "outputs": [
    {
     "name": "stdout",
     "output_type": "stream",
     "text": [
      "2.0\n"
     ]
    }
   ],
   "source": [
    "total = 0\n",
    "n = 0\n",
    "\n",
    "for i in test_list:\n",
    "    if i % 2 == 0:\n",
    "        continue\n",
    "    total += i\n",
    "    n += 1\n",
    "    \n",
    "print(total / n)"
   ]
  },
  {
   "cell_type": "code",
   "execution_count": 20,
   "id": "13db024b",
   "metadata": {},
   "outputs": [],
   "source": [
    "n_list = [1, -5, 16, 76, 127, 4]"
   ]
  },
  {
   "cell_type": "code",
   "execution_count": 29,
   "id": "a3f00e23",
   "metadata": {},
   "outputs": [
    {
     "name": "stdout",
     "output_type": "stream",
     "text": [
      "-5\n"
     ]
    }
   ],
   "source": [
    "smallest = n_list[0]\n",
    "\n",
    "for i in n_list:\n",
    "    if i < smallest:\n",
    "        smallest = i\n",
    "    \n",
    "print(smallest)\n"
   ]
  },
  {
   "cell_type": "code",
   "execution_count": 30,
   "id": "0aa64d88",
   "metadata": {},
   "outputs": [],
   "source": [
    "alist = ['Tom', 'Dick', 'Harry']"
   ]
  },
  {
   "cell_type": "code",
   "execution_count": 36,
   "id": "6a6053c8",
   "metadata": {},
   "outputs": [
    {
     "name": "stdout",
     "output_type": "stream",
     "text": [
      "<enumerate object at 0x000001BD374371A0>\n"
     ]
    }
   ],
   "source": [
    "print(enumerate(alist))"
   ]
  },
  {
   "cell_type": "code",
   "execution_count": 40,
   "id": "c5ec1612",
   "metadata": {},
   "outputs": [
    {
     "name": "stdout",
     "output_type": "stream",
     "text": [
      "(0, 'Tom') <class 'tuple'>\n",
      "(1, 'Dick') <class 'tuple'>\n",
      "(2, 'Harry') <class 'tuple'>\n"
     ]
    }
   ],
   "source": [
    "for i in enumerate(alist):\n",
    "    print(i, type(i))"
   ]
  },
  {
   "cell_type": "code",
   "execution_count": 44,
   "id": "3994e441",
   "metadata": {},
   "outputs": [
    {
     "name": "stdout",
     "output_type": "stream",
     "text": [
      "(0, 'Tom') 0 Tom\n",
      "(1, 'Dick') 1 Dick\n",
      "(2, 'Harry') 2 Harry\n"
     ]
    }
   ],
   "source": [
    "for item in enumerate(alist):\n",
    "    index, value = item\n",
    "    print(item, index, value)"
   ]
  },
  {
   "cell_type": "code",
   "execution_count": 52,
   "id": "62083f14",
   "metadata": {},
   "outputs": [
    {
     "ename": "TypeError",
     "evalue": "cannot unpack non-iterable int object",
     "output_type": "error",
     "traceback": [
      "\u001b[1;31m---------------------------------------------------------------------------\u001b[0m",
      "\u001b[1;31mTypeError\u001b[0m                                 Traceback (most recent call last)",
      "Cell \u001b[1;32mIn[52], line 3\u001b[0m\n\u001b[0;32m      1\u001b[0m largest \u001b[38;5;241m=\u001b[39m n_list[\u001b[38;5;241m0\u001b[39m]\n\u001b[1;32m----> 3\u001b[0m \u001b[38;5;28;01mfor\u001b[39;00m index, value \u001b[38;5;129;01min\u001b[39;00m n_list:\n\u001b[0;32m      4\u001b[0m     \u001b[38;5;28;01mif\u001b[39;00m value \u001b[38;5;241m>\u001b[39m\u001b[38;5;241m=\u001b[39m largest:\n\u001b[0;32m      5\u001b[0m         largest \u001b[38;5;241m=\u001b[39m value\n",
      "\u001b[1;31mTypeError\u001b[0m: cannot unpack non-iterable int object"
     ]
    }
   ],
   "source": [
    "largest = n_list[0]\n",
    "\n",
    "for index, value in n_list:\n",
    "    if value >= largest:\n",
    "        largest = value\n",
    "    \n",
    "print(f'The largest value is {largest}''\n",
    "\n",
    "    "
   ]
  },
  {
   "cell_type": "code",
   "execution_count": null,
   "id": "f247c6e1",
   "metadata": {},
   "outputs": [],
   "source": []
  }
 ],
 "metadata": {
  "kernelspec": {
   "display_name": "Python 3 (ipykernel)",
   "language": "python",
   "name": "python3"
  },
  "language_info": {
   "codemirror_mode": {
    "name": "ipython",
    "version": 3
   },
   "file_extension": ".py",
   "mimetype": "text/x-python",
   "name": "python",
   "nbconvert_exporter": "python",
   "pygments_lexer": "ipython3",
   "version": "3.11.0"
  }
 },
 "nbformat": 4,
 "nbformat_minor": 5
}
