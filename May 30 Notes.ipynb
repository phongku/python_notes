{
 "cells": [
  {
   "cell_type": "code",
   "execution_count": 9,
   "id": "e93e4654",
   "metadata": {},
   "outputs": [
    {
     "ename": "IndentationError",
     "evalue": "expected an indented block after function definition on line 1 (3994287892.py, line 2)",
     "output_type": "error",
     "traceback": [
      "\u001b[1;36m  Cell \u001b[1;32mIn[9], line 2\u001b[1;36m\u001b[0m\n\u001b[1;33m    print(\"I'm a lumberjack, and I'm okay.\")\u001b[0m\n\u001b[1;37m    ^\u001b[0m\n\u001b[1;31mIndentationError\u001b[0m\u001b[1;31m:\u001b[0m expected an indented block after function definition on line 1\n"
     ]
    }
   ],
   "source": [
    "def print_lyrics():\n",
    "    print(\"I'm a lumberjack, and I'm okay.\")\n",
    "    print('I sleep all night and I work all day')"
   ]
  },
  {
   "cell_type": "code",
   "execution_count": 5,
   "id": "38829681",
   "metadata": {},
   "outputs": [
    {
     "name": "stdout",
     "output_type": "stream",
     "text": [
      "I'm a lumberjack, and I'm okay.\n",
      "I sleep all night and I work all day\n",
      "I'm a lumberjack, and I'm okay.\n",
      "I sleep all night and I work all day\n"
     ]
    }
   ],
   "source": [
    "print_lyrics()\n",
    "print_lyrics()"
   ]
  },
  {
   "cell_type": "code",
   "execution_count": 11,
   "id": "27d845ee",
   "metadata": {},
   "outputs": [
    {
     "name": "stdout",
     "output_type": "stream",
     "text": [
      "12.566370614359172\n",
      "None\n"
     ]
    }
   ],
   "source": [
    "import math\n",
    "\n",
    "def circle_area(r):\n",
    "    area = math.pi * r ** 2\n",
    "    print(area)\n",
    "\n",
    "print (circle_area(2))"
   ]
  },
  {
   "cell_type": "code",
   "execution_count": 18,
   "id": "ad0012bc",
   "metadata": {},
   "outputs": [
    {
     "name": "stdout",
     "output_type": "stream",
     "text": [
      "2\n"
     ]
    }
   ],
   "source": [
    "def quad(a, b, c, x):\n",
    "    result = a * x ** 2 + b * x + c\n",
    "    return result\n",
    "\n",
    "print(quad(1, -7, 12, 5))"
   ]
  },
  {
   "cell_type": "code",
   "execution_count": 20,
   "id": "05d3aef0",
   "metadata": {},
   "outputs": [
    {
     "name": "stdout",
     "output_type": "stream",
     "text": [
      "1\n",
      "-7\n",
      "12\n",
      "5\n",
      "None\n"
     ]
    }
   ],
   "source": [
    "def quadv(a, b, c, x):\n",
    "    result = a * x ** 2 + b * x + c\n",
    "    print(a)\n",
    "    print(b)\n",
    "    print(c)\n",
    "    print(x)\n",
    "\n",
    "print(quadv(1, -7, 12, 5))"
   ]
  },
  {
   "cell_type": "code",
   "execution_count": 21,
   "id": "cf33d74d",
   "metadata": {},
   "outputs": [],
   "source": [
    "def divisible(m,n):\n",
    "    if m % n == 0:\n",
    "        return True\n",
    "    else:\n",
    "        return False"
   ]
  },
  {
   "cell_type": "code",
   "execution_count": 22,
   "id": "8b37f286",
   "metadata": {},
   "outputs": [
    {
     "name": "stdout",
     "output_type": "stream",
     "text": [
      "True\n"
     ]
    }
   ],
   "source": [
    "print(divisible(4,2))"
   ]
  },
  {
   "cell_type": "code",
   "execution_count": 23,
   "id": "878988e0",
   "metadata": {},
   "outputs": [
    {
     "name": "stdout",
     "output_type": "stream",
     "text": [
      "False\n"
     ]
    }
   ],
   "source": [
    "print(divisible(5,3))"
   ]
  },
  {
   "cell_type": "code",
   "execution_count": 25,
   "id": "707c1247",
   "metadata": {},
   "outputs": [],
   "source": [
    "def fb(n):\n",
    "    if n % 3 == 0 and n % 5 == 0:\n",
    "        return \"fizzbuzz\"\n",
    "    elif n % 3 == 0:\n",
    "        return \"fizz\"\n",
    "    elif n % 5 == 0:\n",
    "        return \"buzz\"\n",
    "    else:\n",
    "        return \"shucks\""
   ]
  },
  {
   "cell_type": "code",
   "execution_count": 29,
   "id": "75f30e26",
   "metadata": {},
   "outputs": [
    {
     "name": "stdout",
     "output_type": "stream",
     "text": [
      "fizzbuzz\n"
     ]
    }
   ],
   "source": [
    "print(fb(15))"
   ]
  },
  {
   "cell_type": "code",
   "execution_count": 31,
   "id": "e97aa48c",
   "metadata": {},
   "outputs": [],
   "source": [
    "def fb(n):\n",
    "    if n % 3 == 0 and n % 5 == 0:\n",
    "        return \"fizzbuzz\"\n",
    "    if n % 3 == 0:\n",
    "        return \"fizz\"\n",
    "    if n % 5 == 0:\n",
    "        return \"buzz\"\n",
    "    if n % 15 != 0:\n",
    "        return \"shucks\""
   ]
  },
  {
   "cell_type": "code",
   "execution_count": 35,
   "id": "951ed379",
   "metadata": {},
   "outputs": [
    {
     "name": "stdout",
     "output_type": "stream",
     "text": [
      "fizzbuzz\n"
     ]
    }
   ],
   "source": [
    "print(fb(30))"
   ]
  },
  {
   "cell_type": "code",
   "execution_count": 47,
   "id": "6a6323be",
   "metadata": {},
   "outputs": [],
   "source": [
    "def sleep_in(weekday, vacation):\n",
    "    return (not weekday) or vacation"
   ]
  },
  {
   "cell_type": "code",
   "execution_count": 53,
   "id": "c3dd13c3",
   "metadata": {},
   "outputs": [
    {
     "name": "stdout",
     "output_type": "stream",
     "text": [
      "True\n",
      "False\n",
      "True\n",
      "True\n"
     ]
    }
   ],
   "source": [
    "print(sleep_in(True, True))\n",
    "print(sleep_in(True, False))\n",
    "print(sleep_in(False, True))\n",
    "print(sleep_in(False, False))"
   ]
  },
  {
   "cell_type": "code",
   "execution_count": 54,
   "id": "e904dd26",
   "metadata": {},
   "outputs": [],
   "source": [
    "def display(a,b,c):\n",
    "    print(f'a is {a}')\n",
    "    print(f'b is {b}')\n",
    "    print(f'c is {c}')"
   ]
  },
  {
   "cell_type": "code",
   "execution_count": 51,
   "id": "a57b86b8",
   "metadata": {},
   "outputs": [],
   "source": [
    "display(b = 2, c = 3, a = 1)"
   ]
  },
  {
   "cell_type": "code",
   "execution_count": 55,
   "id": "cc47c78a",
   "metadata": {},
   "outputs": [
    {
     "name": "stdout",
     "output_type": "stream",
     "text": [
      "a is 5\n",
      "b is 3\n",
      "c is 4\n"
     ]
    }
   ],
   "source": [
    "display(5, c = 4, b = 3)"
   ]
  },
  {
   "cell_type": "code",
   "execution_count": 56,
   "id": "2b589d32",
   "metadata": {},
   "outputs": [
    {
     "ename": "SyntaxError",
     "evalue": "positional argument follows keyword argument (201143371.py, line 1)",
     "output_type": "error",
     "traceback": [
      "\u001b[1;36m  Cell \u001b[1;32mIn[56], line 1\u001b[1;36m\u001b[0m\n\u001b[1;33m    display(b = 3, c = 4, 5)\u001b[0m\n\u001b[1;37m                           ^\u001b[0m\n\u001b[1;31mSyntaxError\u001b[0m\u001b[1;31m:\u001b[0m positional argument follows keyword argument\n"
     ]
    }
   ],
   "source": [
    "display(b = 3, c = 4, 5)"
   ]
  },
  {
   "cell_type": "code",
   "execution_count": 58,
   "id": "0663cdd5",
   "metadata": {},
   "outputs": [
    {
     "ename": "TypeError",
     "evalue": "display() missing 1 required positional argument: 'c'",
     "output_type": "error",
     "traceback": [
      "\u001b[1;31m---------------------------------------------------------------------------\u001b[0m",
      "\u001b[1;31mTypeError\u001b[0m                                 Traceback (most recent call last)",
      "Cell \u001b[1;32mIn[58], line 1\u001b[0m\n\u001b[1;32m----> 1\u001b[0m \u001b[43mdisplay\u001b[49m\u001b[43m(\u001b[49m\u001b[43ma\u001b[49m\u001b[43m \u001b[49m\u001b[38;5;241;43m=\u001b[39;49m\u001b[43m \u001b[49m\u001b[38;5;241;43m1\u001b[39;49m\u001b[43m,\u001b[49m\u001b[43m \u001b[49m\u001b[43mb\u001b[49m\u001b[43m \u001b[49m\u001b[38;5;241;43m=\u001b[39;49m\u001b[43m \u001b[49m\u001b[38;5;241;43m2\u001b[39;49m\u001b[43m)\u001b[49m\n",
      "\u001b[1;31mTypeError\u001b[0m: display() missing 1 required positional argument: 'c'"
     ]
    }
   ],
   "source": [
    "display(a = 1, b = 2)"
   ]
  },
  {
   "cell_type": "code",
   "execution_count": null,
   "id": "69cb8162",
   "metadata": {},
   "outputs": [],
   "source": []
  }
 ],
 "metadata": {
  "kernelspec": {
   "display_name": "Python 3 (ipykernel)",
   "language": "python",
   "name": "python3"
  },
  "language_info": {
   "codemirror_mode": {
    "name": "ipython",
    "version": 3
   },
   "file_extension": ".py",
   "mimetype": "text/x-python",
   "name": "python",
   "nbconvert_exporter": "python",
   "pygments_lexer": "ipython3",
   "version": "3.11.0"
  }
 },
 "nbformat": 4,
 "nbformat_minor": 5
}
