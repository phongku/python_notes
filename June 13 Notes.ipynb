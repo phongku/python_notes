{
 "cells": [
  {
   "cell_type": "code",
   "execution_count": 61,
   "id": "34e78dba",
   "metadata": {},
   "outputs": [],
   "source": [
    "import math"
   ]
  },
  {
   "cell_type": "code",
   "execution_count": 7,
   "id": "1de7ebf0",
   "metadata": {},
   "outputs": [],
   "source": [
    "class counter:\n",
    "    def __init__(self):\n",
    "        self.count = 0\n",
    "    def increment(self):\n",
    "        self.count += 1\n",
    "    def decrement(self):\n",
    "        self.count -= 1\n",
    "    def get(self):\n",
    "        print(\"The current value of count is\",self.count)"
   ]
  },
  {
   "cell_type": "code",
   "execution_count": 8,
   "id": "fef69ab3",
   "metadata": {},
   "outputs": [
    {
     "name": "stdout",
     "output_type": "stream",
     "text": [
      "The current value of count is 0\n"
     ]
    }
   ],
   "source": [
    "joe = counter()\n",
    "\n",
    "joe.get()"
   ]
  },
  {
   "cell_type": "code",
   "execution_count": 9,
   "id": "a5c146b8",
   "metadata": {},
   "outputs": [
    {
     "name": "stdout",
     "output_type": "stream",
     "text": [
      "The current value of count is 1\n"
     ]
    }
   ],
   "source": [
    "joe.increment()\n",
    "joe.get()"
   ]
  },
  {
   "cell_type": "code",
   "execution_count": 10,
   "id": "8792986b",
   "metadata": {},
   "outputs": [
    {
     "name": "stdout",
     "output_type": "stream",
     "text": [
      "The current value of count is 26\n"
     ]
    }
   ],
   "source": [
    "for i in range(25):\n",
    "    joe.increment()\n",
    "    \n",
    "joe.get()"
   ]
  },
  {
   "cell_type": "code",
   "execution_count": 11,
   "id": "e46358a9",
   "metadata": {},
   "outputs": [
    {
     "name": "stdout",
     "output_type": "stream",
     "text": [
      "The current value of count is 25\n"
     ]
    }
   ],
   "source": [
    "joe.decrement()\n",
    "joe.get()"
   ]
  },
  {
   "cell_type": "code",
   "execution_count": 72,
   "id": "ac3a1eac",
   "metadata": {},
   "outputs": [],
   "source": [
    "class Point:\n",
    "    \n",
    "    def __init__(self, x = 0, y = 0):\n",
    "        self.x = x\n",
    "        self.y = y\n",
    "        \n",
    "    def move(self, delta_x, delta_y):\n",
    "        self.x += delta_x\n",
    "        self.y += delta_y\n",
    "        \n",
    "    def distance(self, other):\n",
    "        dist = math.sqrt((self.x - other.x) ** 2 + (self.y - other.y) ** 2)\n",
    "        return dist\n",
    "    \n",
    "    def _eq_(self, other):\n",
    "        return self.x == other.x and self.y == other.y\n",
    "        \n",
    "    def coordinates(self):\n",
    "        print(f'x-coordinate = {self.x}')\n",
    "        print(f'y-coordinate = {self.y}') "
   ]
  },
  {
   "cell_type": "code",
   "execution_count": 49,
   "id": "96097630",
   "metadata": {},
   "outputs": [],
   "source": [
    "P1 = Point()"
   ]
  },
  {
   "cell_type": "code",
   "execution_count": 50,
   "id": "c188e873",
   "metadata": {
    "scrolled": true
   },
   "outputs": [
    {
     "name": "stdout",
     "output_type": "stream",
     "text": [
      "x-coordinate = 0\n",
      "y-coordinate = 0\n"
     ]
    }
   ],
   "source": [
    "P1.coordinates()"
   ]
  },
  {
   "cell_type": "code",
   "execution_count": 51,
   "id": "e5c684e9",
   "metadata": {},
   "outputs": [],
   "source": [
    "P1.move(1, 3)"
   ]
  },
  {
   "cell_type": "code",
   "execution_count": 52,
   "id": "894a1f4c",
   "metadata": {},
   "outputs": [
    {
     "name": "stdout",
     "output_type": "stream",
     "text": [
      "x-coordinate = 1\n",
      "y-coordinate = 3\n"
     ]
    }
   ],
   "source": [
    "P1.coordinates()"
   ]
  },
  {
   "cell_type": "code",
   "execution_count": 57,
   "id": "421c2e40",
   "metadata": {},
   "outputs": [],
   "source": [
    "P2 = Point(2, 4)"
   ]
  },
  {
   "cell_type": "code",
   "execution_count": 58,
   "id": "c11686c1",
   "metadata": {},
   "outputs": [
    {
     "name": "stdout",
     "output_type": "stream",
     "text": [
      "x-coordinate = 2\n",
      "y-coordinate = 4\n"
     ]
    }
   ],
   "source": [
    "P2.coordinates()"
   ]
  },
  {
   "cell_type": "code",
   "execution_count": 59,
   "id": "a6a2dfa6",
   "metadata": {},
   "outputs": [],
   "source": [
    "P2.move(1,1)"
   ]
  },
  {
   "cell_type": "code",
   "execution_count": 60,
   "id": "44dc54b5",
   "metadata": {
    "scrolled": true
   },
   "outputs": [
    {
     "name": "stdout",
     "output_type": "stream",
     "text": [
      "x-coordinate = 3\n",
      "y-coordinate = 5\n"
     ]
    }
   ],
   "source": [
    "P2.coordinates()"
   ]
  },
  {
   "cell_type": "code",
   "execution_count": 66,
   "id": "e6937d26",
   "metadata": {},
   "outputs": [],
   "source": [
    "p1 = Point()\n",
    "p2 = Point(1,1)"
   ]
  },
  {
   "cell_type": "code",
   "execution_count": 67,
   "id": "7532ecd5",
   "metadata": {},
   "outputs": [
    {
     "data": {
      "text/plain": [
       "1.4142135623730951"
      ]
     },
     "execution_count": 67,
     "metadata": {},
     "output_type": "execute_result"
    }
   ],
   "source": [
    "p1.distance(p2)"
   ]
  },
  {
   "cell_type": "code",
   "execution_count": 76,
   "id": "a26937e3",
   "metadata": {},
   "outputs": [],
   "source": [
    "p3 = Point(1, 1)\n",
    "p4 = Point(1, 1)"
   ]
  },
  {
   "cell_type": "code",
   "execution_count": 77,
   "id": "4bb096b0",
   "metadata": {},
   "outputs": [
    {
     "data": {
      "text/plain": [
       "False"
      ]
     },
     "execution_count": 77,
     "metadata": {},
     "output_type": "execute_result"
    }
   ],
   "source": [
    "p3 == p4"
   ]
  },
  {
   "cell_type": "code",
   "execution_count": null,
   "id": "6c013bcb",
   "metadata": {},
   "outputs": [],
   "source": []
  }
 ],
 "metadata": {
  "kernelspec": {
   "display_name": "Python 3 (ipykernel)",
   "language": "python",
   "name": "python3"
  },
  "language_info": {
   "codemirror_mode": {
    "name": "ipython",
    "version": 3
   },
   "file_extension": ".py",
   "mimetype": "text/x-python",
   "name": "python",
   "nbconvert_exporter": "python",
   "pygments_lexer": "ipython3",
   "version": "3.11.0"
  }
 },
 "nbformat": 4,
 "nbformat_minor": 5
}
