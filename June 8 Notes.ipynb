{
 "cells": [
  {
   "cell_type": "code",
   "execution_count": 9,
   "id": "e24e7bcc",
   "metadata": {},
   "outputs": [
    {
     "name": "stdout",
     "output_type": "stream",
     "text": [
      "{'Joe': 175, 'Tom': 190, 'Dick': 150}\n"
     ]
    }
   ],
   "source": [
    "weights = {\n",
    "    \"Joe\" : 175,\n",
    "    \"Tom\" : 190,\n",
    "    \"Dick\" : 150\n",
    "}\n",
    "\n",
    "print(weights)"
   ]
  },
  {
   "cell_type": "code",
   "execution_count": 10,
   "id": "5fd308f5",
   "metadata": {},
   "outputs": [
    {
     "name": "stdout",
     "output_type": "stream",
     "text": [
      "{'Joe': 175, 'Tom': 190, 'Dick': 150, 'Harry': 180}\n"
     ]
    }
   ],
   "source": [
    "weights[\"Harry\"] = 180\n",
    "\n",
    "print(weights)"
   ]
  },
  {
   "cell_type": "code",
   "execution_count": 11,
   "id": "57c8cc06",
   "metadata": {},
   "outputs": [
    {
     "name": "stdout",
     "output_type": "stream",
     "text": [
      "{'Tom': 190, 'Dick': 150, 'Harry': 180}\n"
     ]
    }
   ],
   "source": [
    "del weights[\"Joe\"]\n",
    "print(weights)"
   ]
  },
  {
   "cell_type": "code",
   "execution_count": 12,
   "id": "a2544b6f",
   "metadata": {},
   "outputs": [
    {
     "name": "stdout",
     "output_type": "stream",
     "text": [
      "150\n"
     ]
    }
   ],
   "source": [
    "print(weights[\"Dick\"])"
   ]
  },
  {
   "cell_type": "code",
   "execution_count": 18,
   "id": "63ed45f6",
   "metadata": {},
   "outputs": [
    {
     "name": "stdout",
     "output_type": "stream",
     "text": [
      "520\n"
     ]
    }
   ],
   "source": [
    "sumw = 0\n",
    "\n",
    "for i in weights:\n",
    "    sumw += weights[i]\n",
    "    \n",
    "print(sumw)"
   ]
  },
  {
   "cell_type": "code",
   "execution_count": 19,
   "id": "ea5433f4",
   "metadata": {},
   "outputs": [
    {
     "name": "stdout",
     "output_type": "stream",
     "text": [
      "520\n"
     ]
    }
   ],
   "source": [
    "sumw = 0\n",
    "\n",
    "for i in weights.values():\n",
    "    sumw += i\n",
    "    \n",
    "print(sumw)"
   ]
  },
  {
   "cell_type": "code",
   "execution_count": 23,
   "id": "314a96cc",
   "metadata": {},
   "outputs": [
    {
     "name": "stdout",
     "output_type": "stream",
     "text": [
      "dict_items([('Tom', 190), ('Dick', 150), ('Harry', 180)])\n"
     ]
    },
    {
     "data": {
      "text/plain": [
       "dict_items"
      ]
     },
     "execution_count": 23,
     "metadata": {},
     "output_type": "execute_result"
    }
   ],
   "source": [
    "returned_items = weights.items()\n",
    "print(returned_items)\n",
    "type(returned_items)"
   ]
  },
  {
   "cell_type": "code",
   "execution_count": 24,
   "id": "9c428d50",
   "metadata": {},
   "outputs": [
    {
     "name": "stdout",
     "output_type": "stream",
     "text": [
      "('Tom', 190)\n",
      "('Dick', 150)\n",
      "('Harry', 180)\n"
     ]
    }
   ],
   "source": [
    "for i in returned_items:\n",
    "    print(i)"
   ]
  },
  {
   "cell_type": "code",
   "execution_count": 26,
   "id": "c70abb95",
   "metadata": {},
   "outputs": [
    {
     "ename": "TypeError",
     "evalue": "'dict_items' object is not subscriptable",
     "output_type": "error",
     "traceback": [
      "\u001b[1;31m---------------------------------------------------------------------------\u001b[0m",
      "\u001b[1;31mTypeError\u001b[0m                                 Traceback (most recent call last)",
      "Cell \u001b[1;32mIn[26], line 1\u001b[0m\n\u001b[1;32m----> 1\u001b[0m \u001b[43mreturned_items\u001b[49m\u001b[43m[\u001b[49m\u001b[38;5;241;43m0\u001b[39;49m\u001b[43m]\u001b[49m\n",
      "\u001b[1;31mTypeError\u001b[0m: 'dict_items' object is not subscriptable"
     ]
    }
   ],
   "source": [
    "returned_items[0]"
   ]
  },
  {
   "cell_type": "code",
   "execution_count": 27,
   "id": "8bcef1e7",
   "metadata": {},
   "outputs": [
    {
     "name": "stdout",
     "output_type": "stream",
     "text": [
      "('Tom', 190)\n"
     ]
    }
   ],
   "source": [
    "print(list(returned_items)[0])"
   ]
  },
  {
   "cell_type": "code",
   "execution_count": 28,
   "id": "716c48a3",
   "metadata": {},
   "outputs": [
    {
     "name": "stdout",
     "output_type": "stream",
     "text": [
      "[('Dick', 150), ('Harry', 180), ('Tom', 190)]\n"
     ]
    }
   ],
   "source": [
    "sorted_items = sorted(returned_items)\n",
    "type(sorted_items)\n",
    "print(sorted_items)"
   ]
  },
  {
   "cell_type": "code",
   "execution_count": 30,
   "id": "1660c26d",
   "metadata": {},
   "outputs": [
    {
     "name": "stdout",
     "output_type": "stream",
     "text": [
      "{150: 'Dick', 180: 'Harry', 190: 'Tom'}\n"
     ]
    }
   ],
   "source": [
    "new_dict = {}\n",
    "for key, value in sorted(weights.items()):\n",
    "    new_dict[value] = key\n",
    "    \n",
    "print(new_dict)"
   ]
  },
  {
   "cell_type": "code",
   "execution_count": 31,
   "id": "f37af104",
   "metadata": {},
   "outputs": [
    {
     "name": "stdout",
     "output_type": "stream",
     "text": [
      "{150: 'Jerry', 180: 'Harry', 190: 'Tom'}\n"
     ]
    }
   ],
   "source": [
    "weights[\"Jerry\"] = 150\n",
    "new_dict = {}\n",
    "for key, value in sorted(weights.items()):\n",
    "    new_dict[value] = key\n",
    "    \n",
    "print(new_dict)"
   ]
  },
  {
   "cell_type": "code",
   "execution_count": null,
   "id": "1855d3bc",
   "metadata": {},
   "outputs": [],
   "source": []
  }
 ],
 "metadata": {
  "kernelspec": {
   "display_name": "Python 3 (ipykernel)",
   "language": "python",
   "name": "python3"
  },
  "language_info": {
   "codemirror_mode": {
    "name": "ipython",
    "version": 3
   },
   "file_extension": ".py",
   "mimetype": "text/x-python",
   "name": "python",
   "nbconvert_exporter": "python",
   "pygments_lexer": "ipython3",
   "version": "3.11.0"
  }
 },
 "nbformat": 4,
 "nbformat_minor": 5
}
