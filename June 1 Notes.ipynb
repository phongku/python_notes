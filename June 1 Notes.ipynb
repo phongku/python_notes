{
 "cells": [
  {
   "cell_type": "code",
   "execution_count": 2,
   "id": "01712c83",
   "metadata": {},
   "outputs": [
    {
     "name": "stdout",
     "output_type": "stream",
     "text": [
      "r\n"
     ]
    }
   ],
   "source": [
    "my_name = 'Eric Trinh'\n",
    "second = my_name[1]\n",
    "print(second)"
   ]
  },
  {
   "cell_type": "code",
   "execution_count": 3,
   "id": "0b80d1ba",
   "metadata": {},
   "outputs": [
    {
     "name": "stdout",
     "output_type": "stream",
     "text": [
      "10\n"
     ]
    }
   ],
   "source": [
    "length = len(my_name)\n",
    "print(length)"
   ]
  },
  {
   "cell_type": "code",
   "execution_count": 4,
   "id": "beec21f4",
   "metadata": {},
   "outputs": [
    {
     "name": "stdout",
     "output_type": "stream",
     "text": [
      "h\n"
     ]
    }
   ],
   "source": [
    "last = my_name[9]\n",
    "print(last)"
   ]
  },
  {
   "cell_type": "code",
   "execution_count": 9,
   "id": "9d948ec1",
   "metadata": {},
   "outputs": [
    {
     "name": "stdout",
     "output_type": "stream",
     "text": [
      "E\n",
      "r\n",
      "i\n",
      "c\n",
      " \n",
      "T\n",
      "r\n",
      "i\n",
      "n\n",
      "h\n"
     ]
    }
   ],
   "source": [
    "n = 0\n",
    "\n",
    "while n < length:\n",
    "    print(my_name[n])\n",
    "    n += 1"
   ]
  },
  {
   "cell_type": "code",
   "execution_count": 16,
   "id": "8d5f129d",
   "metadata": {},
   "outputs": [
    {
     "name": "stdout",
     "output_type": "stream",
     "text": [
      "E\n",
      "r\n",
      "i\n",
      "c\n",
      " \n",
      "T\n",
      "r\n",
      "i\n",
      "n\n",
      "h\n"
     ]
    }
   ],
   "source": [
    "for x in str(my_name):\n",
    "    print(x)"
   ]
  },
  {
   "cell_type": "code",
   "execution_count": 39,
   "id": "5559951c",
   "metadata": {},
   "outputs": [
    {
     "name": "stdout",
     "output_type": "stream",
     "text": [
      "c T\n"
     ]
    }
   ],
   "source": [
    "straddle = my_name[3:6]\n",
    "print(straddle)"
   ]
  },
  {
   "cell_type": "code",
   "execution_count": 46,
   "id": "272c3a1f",
   "metadata": {},
   "outputs": [
    {
     "name": "stdout",
     "output_type": "stream",
     "text": [
      "4\n",
      "Eric\n",
      "Trinh\n"
     ]
    }
   ],
   "source": [
    "blank_pos = 4\n",
    "first_name = my_name[:blank_pos]\n",
    "last_name = my_name[blank_pos + 1:]\n",
    "\n",
    "print(blank_pos)\n",
    "print(first_name)\n",
    "print(last_name)"
   ]
  },
  {
   "cell_type": "code",
   "execution_count": 47,
   "id": "d5077589",
   "metadata": {},
   "outputs": [
    {
     "data": {
      "text/plain": [
       "True"
      ]
     },
     "execution_count": 47,
     "metadata": {},
     "output_type": "execute_result"
    }
   ],
   "source": [
    "blank_pos2 = my_name.find(' ')\n",
    "blank_pos == blank_pos2"
   ]
  },
  {
   "cell_type": "code",
   "execution_count": 58,
   "id": "d720ec74",
   "metadata": {},
   "outputs": [
    {
     "name": "stdout",
     "output_type": "stream",
     "text": [
      "eric trinh\n",
      "Eric trinh\n",
      "Eric Trinh\n",
      "ERIC TRINH\n",
      "Erxc Trxnh\n"
     ]
    }
   ],
   "source": [
    "lower_name = my_name.lower()\n",
    "cap_name = lower_name.capitalize()\n",
    "both_caps = lower_name.title()\n",
    "upper_name = lower_name.upper()\n",
    "\n",
    "devoweled = my_name.replace(\"a\",\"x\")\n",
    "devoweled = devoweled.replace(\"e\",\"x\")\n",
    "devoweled = devoweled.replace(\"i\",\"x\")\n",
    "devoweled = devoweled.replace(\"o\",\"x\")\n",
    "devoweled = devoweled.replace(\"u\",\"x\")\n",
    "\n",
    "print(lower_name)\n",
    "print(cap_name)\n",
    "print(both_caps)\n",
    "print(upper_name)\n",
    "print(devoweled)"
   ]
  },
  {
   "cell_type": "code",
   "execution_count": 63,
   "id": "bbdc41dd",
   "metadata": {},
   "outputs": [],
   "source": [
    "def scandi(name):\n",
    "    return 'sen' in name or 'son' in name"
   ]
  },
  {
   "cell_type": "code",
   "execution_count": 67,
   "id": "4ff89b0c",
   "metadata": {},
   "outputs": [
    {
     "name": "stdout",
     "output_type": "stream",
     "text": [
      "True\n"
     ]
    }
   ],
   "source": [
    "scandi('andersen')"
   ]
  },
  {
   "cell_type": "code",
   "execution_count": 68,
   "id": "47c3970a",
   "metadata": {},
   "outputs": [
    {
     "ename": "TypeError",
     "evalue": "'str' object does not support item assignment",
     "output_type": "error",
     "traceback": [
      "\u001b[1;31m---------------------------------------------------------------------------\u001b[0m",
      "\u001b[1;31mTypeError\u001b[0m                                 Traceback (most recent call last)",
      "Cell \u001b[1;32mIn[68], line 2\u001b[0m\n\u001b[0;32m      1\u001b[0m s \u001b[38;5;241m=\u001b[39m \u001b[38;5;124m'\u001b[39m\u001b[38;5;124mabc\u001b[39m\u001b[38;5;124m'\u001b[39m\n\u001b[1;32m----> 2\u001b[0m \u001b[43ms\u001b[49m\u001b[43m[\u001b[49m\u001b[38;5;241;43m0\u001b[39;49m\u001b[43m]\u001b[49m \u001b[38;5;241m=\u001b[39m \u001b[38;5;124m'\u001b[39m\u001b[38;5;124mA\u001b[39m\u001b[38;5;124m'\u001b[39m\n\u001b[0;32m      3\u001b[0m \u001b[38;5;28mprint\u001b[39m(s)\n",
      "\u001b[1;31mTypeError\u001b[0m: 'str' object does not support item assignment"
     ]
    }
   ],
   "source": [
    "s = 'abc'\n",
    "s[0] = 'A'\n",
    "print(s)"
   ]
  },
  {
   "cell_type": "code",
   "execution_count": 69,
   "id": "7cb1be5c",
   "metadata": {},
   "outputs": [
    {
     "name": "stdout",
     "output_type": "stream",
     "text": [
      "Abc\n"
     ]
    }
   ],
   "source": [
    "s = 'abc'\n",
    "s = s.capitalize()\n",
    "print(s)"
   ]
  },
  {
   "cell_type": "code",
   "execution_count": 77,
   "id": "0e5536d9",
   "metadata": {},
   "outputs": [
    {
     "name": "stdout",
     "output_type": "stream",
     "text": [
      "Ueia\n"
     ]
    }
   ],
   "source": [
    "vowels = 'AEIOUaeiou'\n",
    "string = 'Use this fact'\n",
    "res = ''\n",
    "\n",
    "for i in string:\n",
    "    if i in vowels:\n",
    "        res = res + i\n",
    "print(res)"
   ]
  },
  {
   "cell_type": "code",
   "execution_count": null,
   "id": "79caaf8d",
   "metadata": {},
   "outputs": [],
   "source": [
    "res = ''\n",
    "\n",
    "for in"
   ]
  },
  {
   "cell_type": "code",
   "execution_count": 80,
   "id": "263344e6",
   "metadata": {},
   "outputs": [
    {
     "name": "stdout",
     "output_type": "stream",
     "text": [
      "test.docx\n",
      "docx\n"
     ]
    }
   ],
   "source": [
    "file = input()\n",
    "\n",
    "file_pos = file.find('.')\n",
    "print(file[file_pos + 1:])"
   ]
  },
  {
   "cell_type": "code",
   "execution_count": null,
   "id": "cd5d85ae",
   "metadata": {},
   "outputs": [],
   "source": []
  }
 ],
 "metadata": {
  "kernelspec": {
   "display_name": "Python 3 (ipykernel)",
   "language": "python",
   "name": "python3"
  },
  "language_info": {
   "codemirror_mode": {
    "name": "ipython",
    "version": 3
   },
   "file_extension": ".py",
   "mimetype": "text/x-python",
   "name": "python",
   "nbconvert_exporter": "python",
   "pygments_lexer": "ipython3",
   "version": "3.11.0"
  }
 },
 "nbformat": 4,
 "nbformat_minor": 5
}
