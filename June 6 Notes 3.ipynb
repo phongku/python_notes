{
 "cells": [
  {
   "cell_type": "code",
   "execution_count": 3,
   "id": "c863e10a",
   "metadata": {},
   "outputs": [
    {
     "name": "stdout",
     "output_type": "stream",
     "text": [
      "[(1, 1), (2, 4), (3, 9), (4, 16), (5, 25), (6, 36), (7, 49), (8, 64), (9, 81), (10, 100)]\n"
     ]
    }
   ],
   "source": [
    "tuples = []\n",
    "\n",
    "for i in range(1, 11):\n",
    "    tuples.append((i, i ** 2))\n",
    "    \n",
    "print(tuples)"
   ]
  },
  {
   "cell_type": "code",
   "execution_count": 5,
   "id": "e4601f83",
   "metadata": {},
   "outputs": [
    {
     "name": "stdout",
     "output_type": "stream",
     "text": [
      "[(1, 1), (2, 4), (3, 9), (4, 16), (5, 25), (6, 36), (7, 49), (8, 64), (9, 81), (10, 100)]\n"
     ]
    }
   ],
   "source": [
    "new_list = [x for x in tuples]\n",
    "\n",
    "print(new_list)"
   ]
  },
  {
   "cell_type": "code",
   "execution_count": 7,
   "id": "a02e5d85",
   "metadata": {},
   "outputs": [
    {
     "name": "stdout",
     "output_type": "stream",
     "text": [
      "[(1, 1), (2, 4), (3, 9), (4, 16), (5, 25), (6, 36), (7, 49), (8, 64), (9, 81), (10, 100)]\n"
     ]
    }
   ],
   "source": [
    "the_list = [(i, i ** 2) for i in range(1, 11)]\n",
    "\n",
    "print(the_list)"
   ]
  },
  {
   "cell_type": "code",
   "execution_count": 16,
   "id": "4d63d77b",
   "metadata": {},
   "outputs": [
    {
     "name": "stdout",
     "output_type": "stream",
     "text": [
      "[(1, 3), (4, 6), (7, 7), (8, 11)]\n"
     ]
    }
   ],
   "source": [
    "list = [[1, 2, 3], [4, 5, 6], [7], [8, 9, 10, 11]]\n",
    "lot = []\n",
    "\n",
    "for i in list:\n",
    "    lot.append((i[0], i[-1]))\n",
    "        \n",
    "print(lot)"
   ]
  },
  {
   "cell_type": "code",
   "execution_count": 17,
   "id": "f199848c",
   "metadata": {},
   "outputs": [
    {
     "name": "stdout",
     "output_type": "stream",
     "text": [
      "[(1, 3), (4, 6), (7, 7), (8, 11)]\n"
     ]
    }
   ],
   "source": [
    "lot_new = [(i[0], i[-1]) for i in list]\n",
    "\n",
    "print(lot_new)"
   ]
  },
  {
   "cell_type": "code",
   "execution_count": 18,
   "id": "2ee07ec4",
   "metadata": {},
   "outputs": [
    {
     "name": "stdout",
     "output_type": "stream",
     "text": [
      "Mary*had*a*little*lamb\n"
     ]
    }
   ],
   "source": [
    "string = \"Mary had a little lamb\"\n",
    "\n",
    "string2 = string.split()\n",
    "\n",
    "string3 = '*'.join(string2)\n",
    "\n",
    "print(string3)"
   ]
  },
  {
   "cell_type": "code",
   "execution_count": 20,
   "id": "abb2321b",
   "metadata": {},
   "outputs": [
    {
     "name": "stdout",
     "output_type": "stream",
     "text": [
      "Mary*had*a*little*lamb\n"
     ]
    }
   ],
   "source": [
    "new_string = string.replace(' ', '*')\n",
    "\n",
    "print(new_string)"
   ]
  },
  {
   "cell_type": "code",
   "execution_count": 21,
   "id": "4792c7ef",
   "metadata": {},
   "outputs": [
    {
     "name": "stdout",
     "output_type": "stream",
     "text": [
      "None\n"
     ]
    }
   ],
   "source": [
    "def square(x):\n",
    "    res = x**2\n",
    "x = square(2)\n",
    "print(x)"
   ]
  },
  {
   "cell_type": "code",
   "execution_count": null,
   "id": "ec52b05a",
   "metadata": {},
   "outputs": [],
   "source": []
  }
 ],
 "metadata": {
  "kernelspec": {
   "display_name": "Python 3 (ipykernel)",
   "language": "python",
   "name": "python3"
  },
  "language_info": {
   "codemirror_mode": {
    "name": "ipython",
    "version": 3
   },
   "file_extension": ".py",
   "mimetype": "text/x-python",
   "name": "python",
   "nbconvert_exporter": "python",
   "pygments_lexer": "ipython3",
   "version": "3.11.0"
  }
 },
 "nbformat": 4,
 "nbformat_minor": 5
}
