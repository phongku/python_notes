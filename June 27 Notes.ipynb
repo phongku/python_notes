{
 "cells": [
  {
   "cell_type": "code",
   "execution_count": 11,
   "id": "4224e19d",
   "metadata": {},
   "outputs": [],
   "source": [
    "master_list = [1, 3, 5, 7, 9]\n",
    "\n",
    "def summation(a_list):\n",
    "    total = 0\n",
    "    for number in a_list:\n",
    "        total += int(number)\n",
    "    return total"
   ]
  },
  {
   "cell_type": "code",
   "execution_count": 12,
   "id": "3145aa4b",
   "metadata": {},
   "outputs": [
    {
     "data": {
      "text/plain": [
       "25"
      ]
     },
     "execution_count": 12,
     "metadata": {},
     "output_type": "execute_result"
    }
   ],
   "source": [
    "summation(master_list)"
   ]
  },
  {
   "cell_type": "code",
   "execution_count": 15,
   "id": "9a06acc9",
   "metadata": {},
   "outputs": [],
   "source": [
    "master_list = [1, 3, 5, 7, 9]\n",
    "\n",
    "def totally(this_list):\n",
    "    if len(this_list) == 1:\n",
    "        return this_list[0]\n",
    "    else:\n",
    "        return this_list[0] + totally(this_list[1:])"
   ]
  },
  {
   "cell_type": "code",
   "execution_count": 16,
   "id": "0acbc783",
   "metadata": {},
   "outputs": [
    {
     "data": {
      "text/plain": [
       "25"
      ]
     },
     "execution_count": 16,
     "metadata": {},
     "output_type": "execute_result"
    }
   ],
   "source": [
    "totally(master_list)"
   ]
  },
  {
   "cell_type": "code",
   "execution_count": 30,
   "id": "73e05433",
   "metadata": {},
   "outputs": [],
   "source": [
    "new_list = []\n",
    "test_list = [1, [2, 3, [4, 5, 6]]]\n",
    "\n",
    "def flatten(in_list):\n",
    "    for item in in_list:\n",
    "        if isinstance(item, list):\n",
    "            flatten(item)\n",
    "        else:\n",
    "            new_list.append(item)"
   ]
  },
  {
   "cell_type": "code",
   "execution_count": 31,
   "id": "e3c2af4d",
   "metadata": {},
   "outputs": [
    {
     "data": {
      "text/plain": [
       "[1, 2, 3, 4, 5, 6]"
      ]
     },
     "execution_count": 31,
     "metadata": {},
     "output_type": "execute_result"
    }
   ],
   "source": [
    "flatten(test_list)\n",
    "new_list"
   ]
  },
  {
   "cell_type": "code",
   "execution_count": 33,
   "id": "3e3c5fd7",
   "metadata": {},
   "outputs": [],
   "source": [
    "def quicksort(arr):\n",
    "    if len(arr) <= 1:\n",
    "        return arr\n",
    "    pivot = arr[len(arr) // 2]\n",
    "    left, right, equal = [], [], []\n",
    "    for x in arr:\n",
    "        if x < pivot:\n",
    "            left.append(x)\n",
    "        elif x > pivot:\n",
    "            right.append(x)\n",
    "        else:\n",
    "            equal.append(x)\n",
    "    print(left, equal, right)\n",
    "    return quicksort(left) + equal + quicksort(right)    "
   ]
  },
  {
   "cell_type": "code",
   "execution_count": 34,
   "id": "46adf596",
   "metadata": {},
   "outputs": [
    {
     "name": "stdout",
     "output_type": "stream",
     "text": [
      "[2, 1] [3] [4, 6, 5]\n",
      "[] [1] [2]\n",
      "[4, 5] [6] []\n",
      "[4] [5] []\n",
      "[1, 2, 3, 4, 5, 6]\n"
     ]
    }
   ],
   "source": [
    "print(quicksort([4, 2, 6, 3, 1, 5]))"
   ]
  },
  {
   "cell_type": "code",
   "execution_count": 38,
   "id": "675c4293",
   "metadata": {},
   "outputs": [],
   "source": [
    "def fibonacci(n):\n",
    "    if n < 0:\n",
    "        return -1\n",
    "    elif n < 2:\n",
    "        return n\n",
    "    else:\n",
    "        return fibonacci(n - 1) + fibonacci(n - 2)"
   ]
  },
  {
   "cell_type": "code",
   "execution_count": 48,
   "id": "0a09fc03",
   "metadata": {},
   "outputs": [],
   "source": [
    "def fibonacci2(n):\n",
    "    if n <= 1:\n",
    "        return n\n",
    "    else:\n",
    "        m2, m1 = 0, 1\n",
    "        for i in range(2, n+1):\n",
    "            f = m2 + m1\n",
    "            m2 = m1\n",
    "            m1 = f\n",
    "        return f"
   ]
  },
  {
   "cell_type": "code",
   "execution_count": 49,
   "id": "22580d57",
   "metadata": {},
   "outputs": [
    {
     "data": {
      "text/plain": [
       "21"
      ]
     },
     "execution_count": 49,
     "metadata": {},
     "output_type": "execute_result"
    }
   ],
   "source": [
    "fibonacci2(8)"
   ]
  },
  {
   "cell_type": "code",
   "execution_count": null,
   "id": "1ab23d4c",
   "metadata": {},
   "outputs": [],
   "source": []
  }
 ],
 "metadata": {
  "kernelspec": {
   "display_name": "Python 3 (ipykernel)",
   "language": "python",
   "name": "python3"
  },
  "language_info": {
   "codemirror_mode": {
    "name": "ipython",
    "version": 3
   },
   "file_extension": ".py",
   "mimetype": "text/x-python",
   "name": "python",
   "nbconvert_exporter": "python",
   "pygments_lexer": "ipython3",
   "version": "3.11.0"
  }
 },
 "nbformat": 4,
 "nbformat_minor": 5
}
