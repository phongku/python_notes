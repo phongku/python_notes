{
 "cells": [
  {
   "cell_type": "code",
   "execution_count": 20,
   "id": "4b0b867d",
   "metadata": {},
   "outputs": [],
   "source": [
    "class WeatherForecast:\n",
    "    def __init__(self, skies = '', high = 0, low = 0):\n",
    "        self.skies = skies\n",
    "        self.high = high\n",
    "        self.low = low\n",
    "    \n",
    "    def set_skies(self, skies):\n",
    "        self.skies = skies\n",
    "    \n",
    "    def set_high(self, high):\n",
    "        self.high = high\n",
    "    \n",
    "    def set_low(self, low):\n",
    "        self.low = low\n",
    "        \n",
    "    def get_skies(self):\n",
    "        return self.skies\n",
    "        \n",
    "    def get_high(self):\n",
    "        return self.high\n",
    "    \n",
    "    def get_low(self):\n",
    "        return self.low\n"
   ]
  },
  {
   "cell_type": "code",
   "execution_count": 21,
   "id": "8b93ebba",
   "metadata": {},
   "outputs": [],
   "source": [
    "weather = WeatherForecast()"
   ]
  },
  {
   "cell_type": "code",
   "execution_count": 22,
   "id": "4a047b8c",
   "metadata": {},
   "outputs": [],
   "source": [
    "weather.set_skies('Cloudy')\n",
    "weather.set_high(98)\n",
    "weather.set_low(75)"
   ]
  },
  {
   "cell_type": "code",
   "execution_count": 23,
   "id": "d84a7ee5",
   "metadata": {},
   "outputs": [
    {
     "name": "stdout",
     "output_type": "stream",
     "text": [
      "Cloudy\n",
      "98\n",
      "75\n"
     ]
    }
   ],
   "source": [
    "print(weather.get_skies())\n",
    "print(weather.get_high())\n",
    "print(weather.get_low())"
   ]
  },
  {
   "cell_type": "code",
   "execution_count": 26,
   "id": "c1980faa",
   "metadata": {},
   "outputs": [
    {
     "name": "stdout",
     "output_type": "stream",
     "text": [
      "Clear\n",
      "75\n",
      "45\n"
     ]
    }
   ],
   "source": [
    "june_22 = WeatherForecast()\n",
    "\n",
    "june_22.set_skies('Clear')\n",
    "june_22.set_high(75)\n",
    "june_22.set_low(45)\n",
    "\n",
    "print(june_22.get_skies())\n",
    "print(june_22.get_high())\n",
    "print(june_22.get_low())"
   ]
  },
  {
   "cell_type": "code",
   "execution_count": 27,
   "id": "85b48f3d",
   "metadata": {},
   "outputs": [
    {
     "name": "stdout",
     "output_type": "stream",
     "text": [
      "Cloudy\n"
     ]
    }
   ],
   "source": [
    "june_22.set_skies('Cloudy')\n",
    "print(june_22.get_skies())"
   ]
  },
  {
   "cell_type": "code",
   "execution_count": 28,
   "id": "0e79627b",
   "metadata": {},
   "outputs": [
    {
     "name": "stdout",
     "output_type": "stream",
     "text": [
      "65\n"
     ]
    }
   ],
   "source": [
    "june_22.set_high(65)\n",
    "print(june_22.get_high())"
   ]
  },
  {
   "cell_type": "code",
   "execution_count": 29,
   "id": "2403d7c4",
   "metadata": {},
   "outputs": [
    {
     "name": "stdout",
     "output_type": "stream",
     "text": [
      "39\n"
     ]
    }
   ],
   "source": [
    "june_22.set_low(39)\n",
    "print(june_22.get_low())"
   ]
  },
  {
   "cell_type": "code",
   "execution_count": 40,
   "id": "88f57cc4",
   "metadata": {},
   "outputs": [],
   "source": [
    "class LocalWeatherForecast(WeatherForecast):\n",
    "    \n",
    "    def __init__(self,loc,skies,high,low):\n",
    "        WeatherForecast.__init__(self,skies,high,low)\n",
    "        self.loc = loc\n",
    "        \n",
    "    def set_loc(self,loc):\n",
    "            self.loc = loc\n",
    "            \n",
    "    def get_loc(self):\n",
    "            return self.loc\n",
    "        \n",
    "    def get_skies(self):\n",
    "            s = \"The skies on this day in \" + self.loc + \" are \" + self.skies + \".\"\n",
    "            return s"
   ]
  },
  {
   "cell_type": "code",
   "execution_count": 35,
   "id": "c39d85ed",
   "metadata": {},
   "outputs": [
    {
     "data": {
      "text/plain": [
       "'Olympia'"
      ]
     },
     "execution_count": 35,
     "metadata": {},
     "output_type": "execute_result"
    }
   ],
   "source": [
    "OlympiaJune23 = LocalWeatherForecast(\"Olympia\",\"Thunder\",50,42)\n",
    "OlympiaJune23.get_loc()"
   ]
  },
  {
   "cell_type": "code",
   "execution_count": 36,
   "id": "de443337",
   "metadata": {},
   "outputs": [
    {
     "data": {
      "text/plain": [
       "'Thunder'"
      ]
     },
     "execution_count": 36,
     "metadata": {},
     "output_type": "execute_result"
    }
   ],
   "source": [
    "OlympiaJune23.get_skies()"
   ]
  },
  {
   "cell_type": "code",
   "execution_count": 41,
   "id": "c22e302a",
   "metadata": {},
   "outputs": [
    {
     "data": {
      "text/plain": [
       "'Thunder'"
      ]
     },
     "execution_count": 41,
     "metadata": {},
     "output_type": "execute_result"
    }
   ],
   "source": [
    "OlympiaJune23.get_skies()"
   ]
  },
  {
   "cell_type": "code",
   "execution_count": null,
   "id": "d7706a73",
   "metadata": {},
   "outputs": [],
   "source": []
  }
 ],
 "metadata": {
  "kernelspec": {
   "display_name": "Python 3 (ipykernel)",
   "language": "python",
   "name": "python3"
  },
  "language_info": {
   "codemirror_mode": {
    "name": "ipython",
    "version": 3
   },
   "file_extension": ".py",
   "mimetype": "text/x-python",
   "name": "python",
   "nbconvert_exporter": "python",
   "pygments_lexer": "ipython3",
   "version": "3.11.0"
  }
 },
 "nbformat": 4,
 "nbformat_minor": 5
}
